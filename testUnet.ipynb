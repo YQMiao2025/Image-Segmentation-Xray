{
 "cells": [
  {
   "cell_type": "code",
   "id": "initial_id",
   "metadata": {
    "collapsed": true,
    "ExecuteTime": {
     "end_time": "2024-11-26T04:35:23.990790Z",
     "start_time": "2024-11-26T04:27:30.446064Z"
    }
   },
   "source": [
    "import os\n",
    "import torch\n",
    "import numpy as np\n",
    "from torch.utils.data import DataLoader, Dataset\n",
    "from torchvision import transforms\n",
    "from PIL import Image\n",
    "from Unet import get_model  \n",
    "\n",
    "device = torch.device('cuda' if torch.cuda.is_available() else 'cpu')\n",
    "\n",
    "class CustomDataset(Dataset):\n",
    "    def __init__(self, image_dir, mask_dir, transform=None):\n",
    "        self.image_dir = image_dir\n",
    "        self.mask_dir = mask_dir\n",
    "        self.transform = transform\n",
    "        self.images = os.listdir(image_dir)\n",
    "        self.valid_images = []  \n",
    "\n",
    "    def __len__(self):\n",
    "        return len(self.valid_images)\n",
    "\n",
    "    def __getitem__(self, idx):\n",
    "        img_path = os.path.join(self.image_dir, self.valid_images[idx])\n",
    "        image_name = os.path.splitext(self.valid_images[idx])[0]  \n",
    "\n",
    "        mask_file_name = image_name.replace('cxrimage_', 'cxrmask_') + '.jpeg'\n",
    "        mask_path = os.path.join(self.mask_dir, mask_file_name)\n",
    "\n",
    "        if not os.path.exists(mask_path):\n",
    "            return None \n",
    "\n",
    "        image = Image.open(img_path).convert(\"RGB\")\n",
    "        mask = Image.open(mask_path).convert(\"L\")\n",
    "\n",
    "        if self.transform:\n",
    "            image = self.transform(image)\n",
    "            mask = np.array(mask)\n",
    "            mask = (mask > 0).astype(np.uint8)\n",
    "            mask = torch.from_numpy(mask).unsqueeze(0)\n",
    "        return image, mask.float()\n",
    "\n",
    "    def filter_valid_images(self):\n",
    "        valid_images = []\n",
    "        for image in self.images:\n",
    "            img_path = os.path.join(self.image_dir, image)\n",
    "            image_name = os.path.splitext(image)[0]  \n",
    "\n",
    "            mask_file_name = image_name.replace('cxrimage_', 'cxrmask_') + '.jpeg'\n",
    "            mask_path = os.path.join(self.mask_dir, mask_file_name)\n",
    "\n",
    "            if os.path.exists(mask_path):\n",
    "                valid_images.append(image)\n",
    "        self.valid_images = valid_images\n",
    "\n",
    "num_classes = 1\n",
    "model = get_model(num_classes)\n",
    "model.load_state_dict(torch.load('Unet_epoch_10.pth', map_location=device, weights_only=True))\n",
    "model.to(device)\n",
    "model.eval()\n",
    "\n",
    "test_transform = transforms.Compose([\n",
    "    transforms.Resize((512, 512)),\n",
    "    transforms.ToTensor(),\n",
    "])\n",
    "\n",
    "test_image_dir = 'ChestXray/test/image'\n",
    "test_mask_dir = 'ChestXray/test/mask'\n",
    "test_dataset = CustomDataset(test_image_dir, test_mask_dir, transform=test_transform)\n",
    "test_dataset.filter_valid_images()  \n",
    "test_loader = DataLoader(test_dataset, batch_size=1, shuffle=False)\n",
    "\n",
    "result_dir = 'ChestXray/result/Unet10'\n",
    "os.makedirs(result_dir, exist_ok=True)\n",
    "\n",
    "with torch.no_grad():\n",
    "    for i, (images, _) in enumerate(test_loader):\n",
    "        images = images.to(device)\n",
    "        outputs = model(images)\n",
    "        outputs = torch.sigmoid(outputs)  \n",
    "        predicted_masks = (outputs > 0.5).float()  \n",
    "\n",
    "        for j in range(predicted_masks.shape[0]):\n",
    "            predicted_mask = predicted_masks[j, 0].cpu().numpy() * 255 \n",
    "            image_name = os.path.splitext(test_dataset.valid_images[i * predicted_masks.shape[0] + j])[0] + '_pred_mask.jpeg'\n",
    "            result_path = os.path.join(result_dir, image_name)\n",
    "            Image.fromarray(predicted_mask.astype(np.uint8)).save(result_path)\n",
    "\n",
    "print(f'Prediction results have been saved to {result_dir}')"
   ],
   "outputs": [
    {
     "name": "stdout",
     "output_type": "stream",
     "text": [
      "Prediction results have been saved to ChestXray/result/Unet10\n"
     ]
    }
   ],
   "execution_count": 8
  },
  {
   "metadata": {
    "ExecuteTime": {
     "end_time": "2024-11-26T04:35:43.425110Z",
     "start_time": "2024-11-26T04:35:41.649981Z"
    }
   },
   "cell_type": "code",
   "source": [
    "def iou_score(pred_mask, true_mask):\n",
    "    smooth = 1e-6\n",
    "    pred_mask = pred_mask.astype(bool)\n",
    "    true_mask = true_mask.astype(bool)\n",
    "    intersection = np.logical_and(pred_mask, true_mask).sum()\n",
    "    union = np.logical_or(pred_mask, true_mask).sum()\n",
    "    iou = (intersection + smooth) / (union + smooth)\n",
    "    return iou\n",
    "\n",
    "pred_dir = 'ChestXray/result/Unet10'  \n",
    "true_dir = 'ChestXray/test/mask'  \n",
    "\n",
    "pred_files = os.listdir(pred_dir)\n",
    "true_files = os.listdir(true_dir)\n",
    "\n",
    "pred_names = {os.path.splitext(f)[0].replace('cxrimage_', '').replace('_pred_mask', '') for f in pred_files}\n",
    "true_names = {os.path.splitext(f)[0].replace('cxrmask_', '') for f in true_files}\n",
    "\n",
    "if pred_names != true_names:\n",
    "    raise ValueError(\"The filenames of the predicted result images and the ground truth label images do not match.\")\n",
    "\n",
    "ious = []\n",
    "for pred_file in pred_files:\n",
    "    pred_name = os.path.splitext(pred_file)[0].replace('cxrimage_', '').replace('_pred_mask', '')\n",
    "    true_file = f'cxrmask_{pred_name}.jpeg'\n",
    "    pred_path = os.path.join(pred_dir, pred_file)\n",
    "    true_path = os.path.join(true_dir, true_file)\n",
    "    pred_mask = np.array(Image.open(pred_path).convert(\"L\")) > 0  \n",
    "    true_mask = np.array(Image.open(true_path).convert(\"L\")) > 0  \n",
    "    iou = iou_score(pred_mask, true_mask)\n",
    "    ious.append(iou)\n",
    "\n",
    "mean_iou = np.mean(ious)\n",
    "print(f'Mean IoU: {mean_iou:.4f}')"
   ],
   "id": "e98826af3eb64a92",
   "outputs": [
    {
     "name": "stdout",
     "output_type": "stream",
     "text": [
      "Mean IoU: 0.9109\n"
     ]
    }
   ],
   "execution_count": 12
  },
  {
   "metadata": {},
   "cell_type": "code",
   "outputs": [],
   "execution_count": null,
   "source": "",
   "id": "2b089b8c04bd1b5b"
  }
 ],
 "metadata": {
  "kernelspec": {
   "display_name": "Python 3",
   "language": "python",
   "name": "python3"
  },
  "language_info": {
   "codemirror_mode": {
    "name": "ipython",
    "version": 2
   },
   "file_extension": ".py",
   "mimetype": "text/x-python",
   "name": "python",
   "nbconvert_exporter": "python",
   "pygments_lexer": "ipython2",
   "version": "2.7.6"
  }
 },
 "nbformat": 4,
 "nbformat_minor": 5
}

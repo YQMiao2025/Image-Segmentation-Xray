{
 "cells": [
  {
   "cell_type": "code",
   "id": "initial_id",
   "metadata": {
    "collapsed": true,
    "ExecuteTime": {
     "end_time": "2024-11-26T04:45:01.410789Z",
     "start_time": "2024-11-26T04:44:59.862351Z"
    }
   },
   "source": [
    "from Unet import get_model  \n",
    "\n",
    "def count_parameters(model):\n",
    "    return sum(p.numel() for p in model.parameters() if p.requires_grad)\n",
    "\n",
    "if __name__ == \"__main__\":\n",
    "    num_classes = 1  \n",
    "    unet_model = get_model(num_classes)\n",
    "    print(f\"Total number of parameters: {count_parameters(unet_model)}\")"
   ],
   "outputs": [
    {
     "name": "stdout",
     "output_type": "stream",
     "text": [
      "Total number of parameters: 13395329\n"
     ]
    }
   ],
   "execution_count": 1
  },
  {
   "metadata": {
    "ExecuteTime": {
     "end_time": "2024-11-26T04:47:54.234916Z",
     "start_time": "2024-11-26T04:47:54.137627Z"
    }
   },
   "cell_type": "code",
   "source": [
    "from ASPPMobileUnet import get_model\n",
    "\n",
    "def count_parameters(model):\n",
    "    return sum(p.numel() for p in model.parameters() if p.requires_grad)\n",
    "\n",
    "if __name__ == \"__main__\":\n",
    "    num_classes = 1\n",
    "    unet_model = get_model(num_classes)\n",
    "    print(f\"Total number of parameters: {count_parameters(unet_model)}\")"
   ],
   "id": "8e60503afdc6f3b4",
   "outputs": [
    {
     "name": "stdout",
     "output_type": "stream",
     "text": [
      "Total number of parameters: 10365907\n"
     ]
    }
   ],
   "execution_count": 3
  },
  {
   "metadata": {},
   "cell_type": "code",
   "outputs": [],
   "execution_count": null,
   "source": "",
   "id": "f3e832826a8e93cc"
  }
 ],
 "metadata": {
  "kernelspec": {
   "display_name": "Python 3",
   "language": "python",
   "name": "python3"
  },
  "language_info": {
   "codemirror_mode": {
    "name": "ipython",
    "version": 2
   },
   "file_extension": ".py",
   "mimetype": "text/x-python",
   "name": "python",
   "nbconvert_exporter": "python",
   "pygments_lexer": "ipython2",
   "version": "2.7.6"
  }
 },
 "nbformat": 4,
 "nbformat_minor": 5
}
